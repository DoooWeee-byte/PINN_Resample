{
 "cells": [
  {
   "cell_type": "markdown",
   "metadata": {},
   "source": [
    "step_size=5000"
   ]
  },
  {
   "cell_type": "code",
   "execution_count": 2,
   "metadata": {},
   "outputs": [
    {
     "data": {
      "text/html": [
       "<style>.container { width:100% !important; }</style>"
      ],
      "text/plain": [
       "<IPython.core.display.HTML object>"
      ]
     },
     "metadata": {},
     "output_type": "display_data"
    }
   ],
   "source": [
    "from IPython.core.display import display, HTML\n",
    "display(HTML(\"<style>.container { width:100% !important; }</style>\"))"
   ]
  },
  {
   "cell_type": "code",
   "execution_count": 3,
   "metadata": {},
   "outputs": [],
   "source": [
    "import numpy as np\n",
    "import matplotlib.pyplot as plt\n",
    "import time\n",
    "import scipy.io\n",
    "import matplotlib.gridspec as gridspec\n",
    "from mpl_toolkits.axes_grid1 import make_axes_locatable\n",
    "from scipy.interpolate import griddata\n",
    "\n",
    "import torch\n",
    "from torch import nn\n",
    "import torch.optim as optim\n",
    "from torch.optim import lr_scheduler\n",
    "\n",
    "import argparse\n",
    "import random\n",
    "import os\n",
    "import math\n",
    "\n",
    "os.environ[\"CUDA_VISIBLE_DEVICES\"] = \"1\""
   ]
  },
  {
   "cell_type": "code",
   "execution_count": 54,
   "metadata": {},
   "outputs": [],
   "source": [
    "# CUDA support\n",
    "if torch.cuda.is_available():\n",
    "    device = torch.device('cuda')\n",
    "else:\n",
    "    device = torch.device('cpu')"
   ]
  },
  {
   "cell_type": "code",
   "execution_count": 55,
   "metadata": {},
   "outputs": [],
   "source": [
    "def seed_torch(seed):\n",
    "    random.seed(seed)\n",
    "    os.environ['PYTHONHASHSEED'] = str(seed) # 为了禁止hash随机化，使得实验可复现\n",
    "    np.random.seed(seed)\n",
    "    torch.manual_seed(seed)\n",
    "    torch.cuda.manual_seed(seed)\n",
    "    torch.cuda.manual_seed_all(seed) # if you are using multi-GPU.\n",
    "    torch.backends.cudnn.benchmark = False\n",
    "    torch.backends.cudnn.deterministic = True\n",
    "    random.seed(seed)\n",
    "\n",
    "def grad(outputs, inputs):\n",
    "    \"\"\" compute the derivative of outputs associated with inputs\n",
    "\n",
    "    Params\n",
    "    ======\n",
    "    outputs: (N, 1) tensor\n",
    "    inputs: (N, D) tensor\n",
    "    \"\"\"\n",
    "    return torch.autograd.grad(outputs, inputs,\n",
    "                               grad_outputs=torch.ones_like(outputs),\n",
    "                               create_graph=True)\n",
    "\n",
    "def activation(name):\n",
    "    if name in ['tanh', 'Tanh']:\n",
    "        return nn.Tanh()\n",
    "    elif name in ['relu', 'ReLU']:\n",
    "        return nn.ReLU(inplace=True)\n",
    "    elif name in ['leaky_relu', 'LeakyReLU']:\n",
    "        return nn.LeakyReLU(inplace=True)\n",
    "    elif name in ['sigmoid', 'Sigmoid']:\n",
    "        return nn.Sigmoid()\n",
    "    elif name in ['softplus', 'Softplus']:\n",
    "        return nn.Softplus()\n",
    "    else:\n",
    "        raise ValueError(f'unknown activation function: {name}')"
   ]
  },
  {
   "cell_type": "code",
   "execution_count": 56,
   "metadata": {},
   "outputs": [],
   "source": [
    "seed_torch(24)"
   ]
  },
  {
   "cell_type": "markdown",
   "metadata": {},
   "source": [
    "## 网络模型"
   ]
  },
  {
   "cell_type": "code",
   "execution_count": 57,
   "metadata": {},
   "outputs": [],
   "source": [
    "class MLP(nn.Module):\n",
    "    \"\"\"Deep Neural Network\"\"\"\n",
    "\n",
    "    def __init__(self, L, M, dim_hidden, hidden_layers, dim_out,\n",
    "                 act_name='tanh', init_name='xavier_normal'):\n",
    "        super().__init__()\n",
    "        \n",
    "        dim_in = M * 2 + 2\n",
    "        \n",
    "        model = nn.Sequential()\n",
    "        \n",
    "        model.add_module('fc0', nn.Linear(dim_in, dim_hidden, bias=True))\n",
    "        model.add_module('act0', activation(act_name))\n",
    "        for i in range(1, hidden_layers):\n",
    "            model.add_module(f'fc{i}', nn.Linear(dim_hidden, dim_hidden, bias=True))\n",
    "            model.add_module(f'act{i}', activation(act_name))\n",
    "        model.add_module(f'fc{hidden_layers}', nn.Linear(dim_hidden, dim_out, bias=True))\n",
    "            \n",
    "        self.model = model\n",
    "        \n",
    "        self.L = L\n",
    "        self.M = M\n",
    "        \n",
    "        if init_name is not None:\n",
    "            self.init_weight(init_name)\n",
    "\n",
    "            \n",
    "        self.k = nn.Parameter(torch.arange(1, self.M+1), requires_grad=False)\n",
    "                    \n",
    "    def init_weight(self, name):\n",
    "        if name == 'xavier_normal':\n",
    "            nn_init = nn.init.xavier_normal_\n",
    "        elif name == 'xavier_uniform':\n",
    "            nn_init = nn.init.xavier_uniform_\n",
    "        elif name == 'kaiming_normal':\n",
    "            nn_init = nn.init.kaiming_normal_\n",
    "        elif name == 'kaiming_uniform':\n",
    "            nn_init = nn.init.kaiming_uniform_\n",
    "        else:\n",
    "            raise ValueError(f'unknown initialization function: {name}')\n",
    "\n",
    "        for param in self.parameters():\n",
    "            if len(param.shape) > 1:\n",
    "                nn_init(param)\n",
    "                \n",
    "#         for layer, param in enumerate(self.parameters()):\n",
    "#             if layer % 2 == 1:\n",
    "#                 nn.init.constant_(param, 0.0)\n",
    "#             else:\n",
    "#                 nn_init(param)\n",
    "                \n",
    "    def input_encoding(self, t, x):\n",
    "        w = 2.0 * math.pi / self.L\n",
    "        out = torch.cat([t, torch.ones_like(t), \n",
    "                            torch.cos(self.k * w * x), torch.sin(self.k * w * x)], dim = 1) \n",
    "        \n",
    "        return out    \n",
    "            \n",
    "    def forward(self, H):\n",
    "        t = H[:, 0:1]\n",
    "        x = H[:, 1:2]\n",
    "        \n",
    "        H = self.input_encoding(t, x)\n",
    "        H = self.model(H)\n",
    "        \n",
    "        return H\n",
    "    \n",
    "    def forward_test(self, x):\n",
    "        print(f\"{'input':<20}{str(x.shape):<40}\")\n",
    "        for name, module in self.model._modules.items():\n",
    "            x = module(x)\n",
    "            print(f\"{name:<20}{str(x.shape):<40}\")\n",
    "        return x\n",
    "\n",
    "    def model_size(self):\n",
    "        n_params = 0\n",
    "        for param in self.parameters():\n",
    "            n_params += param.numel()\n",
    "        return n_params\n",
    "    \n",
    "    def print(self):\n",
    "        print(self.bias)"
   ]
  },
  {
   "cell_type": "code",
   "execution_count": 58,
   "metadata": {},
   "outputs": [],
   "source": [
    "model = MLP(L=2.0, M=10, dim_hidden=128, hidden_layers=4, dim_out=1)"
   ]
  },
  {
   "cell_type": "markdown",
   "metadata": {},
   "source": [
    "## PDE部分"
   ]
  },
  {
   "cell_type": "markdown",
   "metadata": {},
   "source": [
    "KDV方程：\n",
    "$$\n",
    "\\left\\{\\begin{matrix}\n",
    "&u_{t}+ \\lambda_1 u u_{x} + \\lambda_2 u_{xxx}=0  ,(t,x)\\in (0,1)\\times (-1,1),  \\\\\n",
    "&u(0,x)= cos(\\pi x),  \\\\\n",
    "&u(t,-1)=u(t,1),t\\in [0,1],  \\\\\n",
    "&u_x(t,-1)=u_x(t,1),x\\in [0,1].\n",
    "\\end{matrix}\\right.\n",
    "$$\n",
    "$\\lambda_1 = 1.000$, $\\lambda_2 = 0.0025$."
   ]
  },
  {
   "cell_type": "code",
   "execution_count": 59,
   "metadata": {},
   "outputs": [],
   "source": [
    "def net_r(self, tx):\n",
    "    tx.requires_grad_(True)\n",
    "\n",
    "    u = self.model(tx)\n",
    "\n",
    "    grad_u = grad(u, tx)[0]\n",
    "    u_t = grad_u[:,[0]]\n",
    "    u_x = grad_u[:,[1]]\n",
    "    u_xx = grad(u_x, tx)[0][:, [1]]\n",
    "    u_xxx = grad(u_xx, tx)[0][:, [1]]\n",
    "\n",
    "    residual = u_t  + u * u_x + 0.0025 * u_xxx\n",
    "\n",
    "    return residual\n",
    "\n",
    "def net_u(self, tx):\n",
    "    u = self.model(tx)\n",
    "    return u"
   ]
  },
  {
   "cell_type": "markdown",
   "metadata": {},
   "source": [
    "## Options"
   ]
  },
  {
   "cell_type": "code",
   "execution_count": 83,
   "metadata": {},
   "outputs": [
    {
     "name": "stdout",
     "output_type": "stream",
     "text": [
      "True\n",
      "cuda\n",
      "9\n"
     ]
    }
   ],
   "source": [
    "import argparse\n",
    "class Options_KDV(object):\n",
    "    def __init__(self):\n",
    "        parser = argparse.ArgumentParser()\n",
    "        parser.add_argument('--no_cuda', action='store_true', default=False, help='disable CUDA or not')\n",
    "        parser.add_argument('--dim_hidden', type=int, default=12, help='neurons in hidden layers')     # 10 9\n",
    "        parser.add_argument('--hidden_layers', type=int, default=9, help='number of hidden layers')    # 4  20\n",
    "        parser.add_argument('--lam', type=float, default=1, help='weight in loss function')\n",
    "        parser.add_argument('--lr', type=float, default=0.001, help='initial learning rate')\n",
    "        parser.add_argument('--epochs_Adam', type=int, default=100000, help='epochs for Adam optimizer')\n",
    "        parser.add_argument('--epochs_LBFGS', type=int, default=2500, help='epochs for LBFGS optimizer')\n",
    "        parser.add_argument('--newton_iter', type=int, default=100, help='newton_iter for LBFGS optimizer')\n",
    "        parser.add_argument('--step_size', type=int, default=10000, help='step size in lr_scheduler for Adam optimizer')\n",
    "        parser.add_argument('--gamma', type=float, default=0.9, help='gamma in lr_scheduler for Adam optimizer')\n",
    "        parser.add_argument('--tol', type=float, default=1.0, help='the annealing scheme')\n",
    "        parser.add_argument('--resume', type=bool, default=False, help='resume or not')\n",
    "        parser.add_argument('--sample_method', type=str, default='uniform', help='sample method')\n",
    "\n",
    "        self.parser = parser\n",
    "\n",
    "    def parse(self):\n",
    "        arg = self.parser.parse_args(args=[])\n",
    "        arg.load_model = False\n",
    "        arg.cuda = not arg.no_cuda and torch.cuda.is_available()\n",
    "        # arg.cuda = False\n",
    "        arg.device = torch.device('cuda' if torch.cuda.is_available() else 'cpu')\n",
    "        print(arg.cuda)\n",
    "        print(arg.device)\n",
    "        return arg\n",
    "\n",
    "args = Options_KDV().parse()\n",
    "print(args.hidden_layers)\n",
    "\n",
    "def save_model(state, is_best=None, save_dir=None):\n",
    "    last_model = os.path.join(save_dir, 'last_model.pth.tar')\n",
    "    torch.save(state, last_model)\n",
    "    if is_best:\n",
    "        best_model = os.path.join(save_dir, 'best_model.pth.tar')\n",
    "        shutil.copyfile(last_model, best_model)"
   ]
  },
  {
   "cell_type": "code",
   "execution_count": 84,
   "metadata": {},
   "outputs": [],
   "source": [
    "model.to(device)\n",
    "args.model=model"
   ]
  },
  {
   "cell_type": "markdown",
   "metadata": {},
   "source": [
    "## 数据集生成"
   ]
  },
  {
   "cell_type": "code",
   "execution_count": 85,
   "metadata": {},
   "outputs": [],
   "source": [
    "class Trainset_KDV():\n",
    "    '''\n",
    "    训练点:时间剖分 100 段， 空间上分成25段，每段上取4个高斯点\n",
    "    '''\n",
    "    def __init__(self, *args):\n",
    "        self.args = args\n",
    "        self.shape = (self.args[1], self.args[0])\n",
    "        \n",
    "    def __call__(self):\n",
    "        return self.data()\n",
    "    \n",
    "    def data(self):\n",
    "        gp = np.array([0.8611363116,-0.8611363116,0.3399810436,-0.3399810436])\n",
    "        gc = np.array([0.3478548451,0.3478548451,0.6521451549,0.6521451549])\n",
    "        n_t = self.args[0]\n",
    "        n_x = self.args[1]\n",
    "        n_ics = self.args[2]\n",
    "        \n",
    "        # 生成初值训练点\n",
    "        t = np.linspace(0, 1, n_t)\n",
    "        x = np.linspace(-1, 1, n_x)\n",
    "        t, x = np.meshgrid(t, x)\n",
    "        tx = np.hstack((t.reshape(-1,1), x.reshape(-1,1)))\n",
    "        \n",
    "        t_ics = np.zeros(n_ics)\n",
    "        x_ics = np.linspace(-1, 1, n_ics)\n",
    "        tx_ics = np.hstack([t_ics.reshape(-1,1),x_ics.reshape(-1,1)])\n",
    "        \n",
    "        u_ics = np.cos(math.pi*x_ics)\n",
    "        u_ics = u_ics.reshape(-1,1)\n",
    "        M = np.triu(np.ones([n_t, n_t]),k=1).T\n",
    "        \n",
    "        # 生成tgx(高斯训练点)\n",
    "        l = np.linspace(-1, 1, 26)[:, None]\n",
    "        l = np.hstack([l[:-1], l[1:]])\n",
    "        c = (l[:, 1] - l[:, 0])/2\n",
    "        c = c[:, None]\n",
    "        gp = gp[None, :]\n",
    "        d = ((l[:, 1] + l[:, 0])/2)\n",
    "        d = d[:, None]\n",
    "        n_p = c * gp + d  # n_p是100个高斯积分点\n",
    "        n_p = n_p.reshape(100, 1)\n",
    "        gcl = c * gc     # gcl是这100个高斯积分点对应的权重  \n",
    "        gcl = gcl.reshape(100, 1)\n",
    "        t = np.linspace(0, 1, 128)[:, None]\n",
    "        t, x = np.meshgrid(t, n_p) #   mesh size (100, 128)\n",
    "        print(t.shape, x.shape)\n",
    "        txg = np.hstack([t.reshape(-1, 1), x.reshape(-1, 1)])\n",
    "        \n",
    "        # 计算一下初始能量\n",
    "        E2 =  np.cos(math.pi*n_p) ** 2 * gcl\n",
    "        E2 = np.sum(E2)\n",
    "        \n",
    "        txg = np.hstack((t.reshape(-1,1), x.reshape(-1,1)))\n",
    "        \n",
    "        tx = torch.from_numpy(tx).float().to(device)\n",
    "        txg = torch.from_numpy(txg).float().to(device)\n",
    "        tx_ics = torch.from_numpy(tx_ics).float().to(device)\n",
    "        u_ics = torch.from_numpy(u_ics).float().to(device)\n",
    "        M = torch.from_numpy(M).float().to(device)\n",
    "        \n",
    "        return tx, tx_ics, u_ics, M, gcl, txg, E2"
   ]
  },
  {
   "cell_type": "code",
   "execution_count": 86,
   "metadata": {},
   "outputs": [
    {
     "name": "stdout",
     "output_type": "stream",
     "text": [
      "(100, 128) (100, 128)\n"
     ]
    }
   ],
   "source": [
    "trainset = Trainset_KDV(128, 100, 100)\n",
    "args.trainset = trainset\n",
    "tx, tx_ics, u_ics, M, gcl, txg, E2 = trainset()"
   ]
  },
  {
   "cell_type": "code",
   "execution_count": 87,
   "metadata": {},
   "outputs": [
    {
     "data": {
      "text/plain": [
       "(torch.Size([12800, 2]), torch.Size([12800, 2]))"
      ]
     },
     "execution_count": 87,
     "metadata": {},
     "output_type": "execute_result"
    }
   ],
   "source": [
    "txg.shape, tx.shape"
   ]
  },
  {
   "cell_type": "code",
   "execution_count": 88,
   "metadata": {},
   "outputs": [
    {
     "data": {
      "text/plain": [
       "False"
      ]
     },
     "execution_count": 88,
     "metadata": {},
     "output_type": "execute_result"
    }
   ],
   "source": [
    "tx.requires_grad"
   ]
  },
  {
   "cell_type": "code",
   "execution_count": 89,
   "metadata": {},
   "outputs": [
    {
     "data": {
      "text/plain": [
       "(100, 1)"
      ]
     },
     "execution_count": 89,
     "metadata": {},
     "output_type": "execute_result"
    }
   ],
   "source": [
    "gcl.shape"
   ]
  },
  {
   "cell_type": "markdown",
   "metadata": {},
   "source": [
    "## 训练"
   ]
  },
  {
   "cell_type": "code",
   "execution_count": 95,
   "metadata": {},
   "outputs": [],
   "source": [
    "class Trainer_Wave(object):\n",
    "    def __init__(self, args):\n",
    "        self.model = args.model\n",
    "        self.lr = args.lr\n",
    "        self.gamma = args.gamma\n",
    "        self.trainset = args.trainset\n",
    "        self.step_size = args.step_size\n",
    "        self.model_name = self.model.__class__.__name__     \n",
    "        self.optimizer_Adam = optim.Adam(self.model.parameters(), lr=self.lr, betas=(0.9, 0.999))\n",
    "        self.scheduler = lr_scheduler.ExponentialLR(self.optimizer_Adam, gamma=self.gamma)\n",
    "        self.epochs_Adam = args.epochs_Adam\n",
    "        self.tol = args.tol\n",
    "        \n",
    "        # data\n",
    "        self.tx, self.tx_ics, self.u_ics, self.M,  self.gcl, self.txg, self.E2 = self.trainset()\n",
    "        self.gcl = torch.from_numpy(self.gcl).float().to(device)\n",
    "        self.E2 = torch.tensor(self.E2).float().to(device)\n",
    "        \n",
    "        # Logger\n",
    "        self.loss_log = []\n",
    "        self.loss_ics_log = []\n",
    "        self.loss_res_log = []\n",
    "        self.W_log = []\n",
    "        self.L_t_log = []\n",
    "        self.epoch_log = []\n",
    "        \n",
    "\n",
    "    def net_r(self, tx):\n",
    "        tx.requires_grad_(True).to(device)\n",
    "\n",
    "        u = self.model(tx)\n",
    "\n",
    "        grad_u = grad(u, tx)[0]\n",
    "        u_t = grad_u[:,[0]]\n",
    "        u_x = grad_u[:,[1]]\n",
    "        u_xx = grad(u_x, tx)[0][:, [1]]\n",
    "        u_xxx = grad(u_xx, tx)[0][:, [1]]\n",
    "\n",
    "        residual = u_t  + u * u_x + 0.0025 * u_xxx\n",
    "\n",
    "        return residual\n",
    "\n",
    "    def net_u(self, tx):\n",
    "        tx.requires_grad_(True).to(device)\n",
    "        u = self.model(tx)  \n",
    "        return u\n",
    "    \n",
    "    def residuals_and_weights(self):\n",
    "        r_pred = self.net_r(self.txg) \n",
    "        r_pred = r_pred.reshape(100, 128) # :shape(100,100)\n",
    "        q_pred = self.net_u(self.txg)\n",
    "        q_pred = q_pred.reshape(100, 128)\n",
    "        #print(q_pred.shape)\n",
    "        q_pred = q_pred ** 2 * self.gcl\n",
    "        q_pred = torch.sum(q_pred, axis=0)\n",
    "        q_pred = (q_pred - self.E2) ** 2 \n",
    "        #print(q_pred.shape)\n",
    "        #print(\"q:\",torch.sum(q_pred))\n",
    "        \n",
    "        #print(q_pred.shape, min(q_pred). max(q_pred))\n",
    "        L_t = torch.mean(r_pred**2, axis=0) \n",
    "        L_t = L_t + q_pred\n",
    "        '''\n",
    "        q_pred = self.net_u(self.txg)\n",
    "        q_pred = q_pred.reshape(-1, len(L_t))\n",
    "        q_pred = torch.sum(q_pred **2, axis=0)\n",
    "        q_pred = q_pred - self.E2\n",
    "        '''\n",
    "        \n",
    "        W = torch.exp(-self.tol * (self.M @ L_t))\n",
    "        \n",
    "        return L_t, W\n",
    "    \n",
    "    def loss_ics(self):\n",
    "        u_pred = self.net_u(self.tx_ics)\n",
    "        loss_ics = torch.mean((u_pred - self.u_ics)**2)\n",
    "        return loss_ics\n",
    "    \n",
    "    def loss_res(self):\n",
    "        r_pred = self.net_r(self.tx)\n",
    "        loss_r = torch.mean(r_pred**2)\n",
    "        return loss_r\n",
    "    \n",
    "    def loss(self):\n",
    "        L0 = 100 * self.loss_ics()\n",
    "        L_t, W = self.residuals_and_weights()\n",
    "        loss = torch.mean(W * L_t) + L0\n",
    "        \n",
    "        return loss\n",
    "    \n",
    "    def train(self):\n",
    "        start = time.time()\n",
    "        \n",
    "        for epoch in range(self.epochs_Adam):\n",
    "            self.optimizer_Adam.zero_grad()\n",
    "            loss_value = self.loss()\n",
    "            loss_value.backward()\n",
    "            self.optimizer_Adam.step()\n",
    "            \n",
    "            if (epoch+1) % self.step_size == 0:\n",
    "                self.scheduler.step()            \n",
    "            \n",
    "            if epoch % 1000 == 0:\n",
    "                loss_value = self.loss()\n",
    "                loss_ics_value = self.loss_ics()\n",
    "                loss_res_value = self.loss_res()\n",
    "                \n",
    "                L_t_value, W_value = self.residuals_and_weights()\n",
    "                \n",
    "                self.loss_log.append(loss_value.detach().cpu())\n",
    "                self.loss_ics_log.append(loss_ics_value.detach().cpu())\n",
    "                self.loss_res_log.append(loss_res_value.detach().cpu())\n",
    "                self.W_log.append(W_value.detach().cpu())\n",
    "                self.L_t_log.append(L_t_value.detach().cpu())\n",
    "                self.epoch_log.append(epoch)\n",
    "                \n",
    "                end = time.time()\n",
    "                running_time = end - start\n",
    "                start = time.time()\n",
    "                \n",
    "                print(f'Epoch #  {epoch}/{self.epochs_Adam}' + f'    time:{running_time:.2f}' + '\\n' + \\\n",
    "                      f'loss:{loss_value:.2e}, loss_ics:{loss_ics_value:.2e}, loss_res:{loss_res_value:.2e},')"
   ]
  },
  {
   "cell_type": "code",
   "execution_count": 96,
   "metadata": {
    "scrolled": true
   },
   "outputs": [
    {
     "name": "stdout",
     "output_type": "stream",
     "text": [
      "(100, 128) (100, 128)\n",
      "Epoch #  0/100000    time:0.09\n",
      "loss:8.94e-02, loss_ics:6.91e-04, loss_res:8.74e+00,\n",
      "Epoch #  1000/100000    time:42.67\n",
      "loss:8.90e-03, loss_ics:9.21e-06, loss_res:5.35e+00,\n",
      "Epoch #  2000/100000    time:43.61\n",
      "loss:8.01e-03, loss_ics:6.09e-07, loss_res:5.86e+00,\n",
      "Epoch #  3000/100000    time:44.43\n",
      "loss:8.62e-03, loss_ics:5.95e-06, loss_res:5.52e+00,\n",
      "Epoch #  4000/100000    time:43.96\n",
      "loss:9.48e-03, loss_ics:1.52e-05, loss_res:4.77e+00,\n",
      "Epoch #  5000/100000    time:44.92\n",
      "loss:8.02e-03, loss_ics:8.59e-07, loss_res:4.37e+00,\n",
      "Epoch #  6000/100000    time:44.44\n",
      "loss:9.62e-03, loss_ics:1.49e-05, loss_res:4.32e+00,\n",
      "Epoch #  7000/100000    time:43.22\n",
      "loss:1.03e-02, loss_ics:2.30e-05, loss_res:4.37e+00,\n",
      "Epoch #  8000/100000    time:43.45\n",
      "loss:8.33e-03, loss_ics:3.89e-06, loss_res:3.88e+00,\n",
      "Epoch #  9000/100000    time:41.45\n",
      "loss:8.16e-03, loss_ics:1.50e-06, loss_res:3.76e+00,\n",
      "Epoch #  10000/100000    time:43.31\n",
      "loss:8.31e-03, loss_ics:2.14e-06, loss_res:3.77e+00,\n",
      "Epoch #  11000/100000    time:40.80\n",
      "loss:8.41e-03, loss_ics:3.82e-06, loss_res:4.14e+00,\n",
      "Epoch #  12000/100000    time:42.88\n",
      "loss:8.67e-03, loss_ics:6.93e-06, loss_res:4.11e+00,\n",
      "Epoch #  13000/100000    time:44.27\n",
      "loss:8.52e-03, loss_ics:2.97e-06, loss_res:4.67e+00,\n",
      "Epoch #  14000/100000    time:44.87\n",
      "loss:7.96e-03, loss_ics:2.88e-06, loss_res:3.87e+00,\n",
      "Epoch #  15000/100000    time:44.10\n",
      "loss:1.01e-02, loss_ics:8.54e-06, loss_res:4.74e+00,\n",
      "Epoch #  16000/100000    time:42.00\n",
      "loss:7.56e-03, loss_ics:3.31e-06, loss_res:4.30e+00,\n",
      "Epoch #  17000/100000    time:42.59\n",
      "loss:8.03e-03, loss_ics:2.77e-06, loss_res:4.21e+00,\n",
      "Epoch #  18000/100000    time:44.54\n",
      "loss:8.28e-03, loss_ics:2.72e-06, loss_res:4.66e+00,\n",
      "Epoch #  19000/100000    time:44.92\n",
      "loss:8.51e-03, loss_ics:5.58e-06, loss_res:3.89e+00,\n",
      "Epoch #  20000/100000    time:45.13\n",
      "loss:8.44e-03, loss_ics:2.21e-06, loss_res:4.60e+00,\n",
      "Epoch #  21000/100000    time:42.60\n",
      "loss:1.04e-02, loss_ics:1.17e-05, loss_res:5.55e+00,\n",
      "Epoch #  22000/100000    time:43.89\n",
      "loss:9.09e-03, loss_ics:7.70e-06, loss_res:5.66e+00,\n",
      "Epoch #  23000/100000    time:42.70\n",
      "loss:8.73e-03, loss_ics:5.36e-06, loss_res:4.57e+00,\n",
      "Epoch #  24000/100000    time:42.41\n",
      "loss:8.19e-03, loss_ics:2.14e-06, loss_res:4.77e+00,\n",
      "Epoch #  25000/100000    time:43.33\n",
      "loss:8.41e-03, loss_ics:2.86e-06, loss_res:5.16e+00,\n",
      "Epoch #  26000/100000    time:42.94\n",
      "loss:8.07e-03, loss_ics:2.11e-06, loss_res:4.77e+00,\n",
      "Epoch #  27000/100000    time:43.04\n",
      "loss:8.17e-03, loss_ics:2.24e-06, loss_res:4.59e+00,\n",
      "Epoch #  28000/100000    time:42.03\n",
      "loss:8.63e-03, loss_ics:5.13e-06, loss_res:4.60e+00,\n",
      "Epoch #  29000/100000    time:42.78\n",
      "loss:4.95e-03, loss_ics:5.08e-06, loss_res:4.75e+00,\n",
      "Epoch #  30000/100000    time:43.59\n",
      "loss:4.99e-04, loss_ics:1.76e-06, loss_res:4.27e+00,\n",
      "Epoch #  31000/100000    time:42.43\n",
      "loss:5.69e-04, loss_ics:1.47e-06, loss_res:4.03e+00,\n",
      "Epoch #  32000/100000    time:43.94\n",
      "loss:4.66e-04, loss_ics:1.44e-06, loss_res:3.93e+00,\n",
      "Epoch #  33000/100000    time:44.21\n",
      "loss:6.98e-04, loss_ics:1.97e-06, loss_res:3.79e+00,\n",
      "Epoch #  34000/100000    time:43.30\n",
      "loss:4.63e-04, loss_ics:1.45e-06, loss_res:3.77e+00,\n",
      "Epoch #  35000/100000    time:42.27\n",
      "loss:5.48e-04, loss_ics:1.26e-06, loss_res:3.70e+00,\n",
      "Epoch #  36000/100000    time:42.55\n",
      "loss:4.31e-04, loss_ics:1.17e-06, loss_res:3.68e+00,\n",
      "Epoch #  37000/100000    time:41.98\n",
      "loss:4.35e-04, loss_ics:1.17e-06, loss_res:3.64e+00,\n",
      "Epoch #  38000/100000    time:43.54\n",
      "loss:4.37e-04, loss_ics:1.19e-06, loss_res:3.60e+00,\n",
      "Epoch #  39000/100000    time:42.81\n",
      "loss:5.11e-04, loss_ics:1.33e-06, loss_res:3.59e+00,\n",
      "Epoch #  40000/100000    time:42.88\n",
      "loss:2.18e-04, loss_ics:1.01e-06, loss_res:3.52e+00,\n",
      "Epoch #  41000/100000    time:44.46\n",
      "loss:3.22e-04, loss_ics:1.05e-06, loss_res:3.46e+00,\n",
      "Epoch #  42000/100000    time:42.52\n",
      "loss:3.64e-04, loss_ics:1.22e-06, loss_res:3.45e+00,\n",
      "Epoch #  43000/100000    time:42.98\n",
      "loss:3.73e-04, loss_ics:1.41e-06, loss_res:3.40e+00,\n",
      "Epoch #  44000/100000    time:45.46\n",
      "loss:3.61e-04, loss_ics:9.52e-07, loss_res:3.35e+00,\n",
      "Epoch #  45000/100000    time:42.95\n",
      "loss:5.01e-04, loss_ics:1.03e-06, loss_res:3.34e+00,\n",
      "Epoch #  46000/100000    time:43.23\n",
      "loss:3.11e-04, loss_ics:9.59e-07, loss_res:3.32e+00,\n",
      "Epoch #  47000/100000    time:44.57\n",
      "loss:6.95e-04, loss_ics:1.28e-06, loss_res:3.33e+00,\n",
      "Epoch #  48000/100000    time:43.98\n",
      "loss:4.35e-04, loss_ics:1.93e-06, loss_res:3.31e+00,\n",
      "Epoch #  49000/100000    time:42.82\n",
      "loss:3.03e-04, loss_ics:1.08e-06, loss_res:3.28e+00,\n",
      "Epoch #  50000/100000    time:42.57\n",
      "loss:2.86e-04, loss_ics:1.03e-06, loss_res:3.26e+00,\n",
      "Epoch #  51000/100000    time:44.88\n",
      "loss:3.51e-04, loss_ics:9.99e-07, loss_res:3.23e+00,\n",
      "Epoch #  52000/100000    time:43.01\n",
      "loss:2.51e-04, loss_ics:9.10e-07, loss_res:3.17e+00,\n",
      "Epoch #  53000/100000    time:44.83\n",
      "loss:2.70e-04, loss_ics:1.06e-06, loss_res:3.17e+00,\n",
      "Epoch #  54000/100000    time:42.04\n",
      "loss:1.49e-04, loss_ics:7.60e-07, loss_res:3.13e+00,\n",
      "Epoch #  55000/100000    time:42.70\n",
      "loss:2.24e-04, loss_ics:7.72e-07, loss_res:3.20e+00,\n",
      "Epoch #  56000/100000    time:42.48\n",
      "loss:2.66e-04, loss_ics:9.11e-07, loss_res:3.17e+00,\n",
      "Epoch #  57000/100000    time:42.54\n",
      "loss:2.10e-04, loss_ics:7.87e-07, loss_res:3.09e+00,\n",
      "Epoch #  58000/100000    time:42.81\n",
      "loss:2.19e-04, loss_ics:7.83e-07, loss_res:3.13e+00,\n",
      "Epoch #  59000/100000    time:44.95\n",
      "loss:2.50e-04, loss_ics:7.54e-07, loss_res:3.06e+00,\n",
      "Epoch #  60000/100000    time:44.26\n",
      "loss:1.84e-04, loss_ics:6.87e-07, loss_res:3.02e+00,\n",
      "Epoch #  61000/100000    time:43.58\n",
      "loss:2.74e-04, loss_ics:7.50e-07, loss_res:2.97e+00,\n",
      "Epoch #  62000/100000    time:44.06\n",
      "loss:1.76e-04, loss_ics:6.25e-07, loss_res:2.97e+00,\n",
      "Epoch #  63000/100000    time:43.05\n",
      "loss:2.51e-04, loss_ics:6.88e-07, loss_res:2.93e+00,\n",
      "Epoch #  64000/100000    time:43.95\n",
      "loss:1.14e-03, loss_ics:1.30e-06, loss_res:2.89e+00,\n",
      "Epoch #  65000/100000    time:43.92\n",
      "loss:1.62e-04, loss_ics:6.53e-07, loss_res:2.88e+00,\n",
      "Epoch #  66000/100000    time:43.17\n",
      "loss:2.42e-04, loss_ics:6.16e-07, loss_res:2.89e+00,\n",
      "Epoch #  67000/100000    time:43.69\n",
      "loss:2.08e-04, loss_ics:5.50e-07, loss_res:2.89e+00,\n",
      "Epoch #  68000/100000    time:43.23\n",
      "loss:1.86e-04, loss_ics:6.71e-07, loss_res:2.83e+00,\n",
      "Epoch #  69000/100000    time:44.48\n",
      "loss:1.05e-04, loss_ics:5.66e-07, loss_res:2.83e+00,\n",
      "Epoch #  70000/100000    time:44.06\n",
      "loss:2.11e-04, loss_ics:5.91e-07, loss_res:2.82e+00,\n",
      "Epoch #  71000/100000    time:44.89\n",
      "loss:1.73e-04, loss_ics:5.69e-07, loss_res:2.83e+00,\n",
      "Epoch #  72000/100000    time:45.30\n",
      "loss:2.49e-04, loss_ics:4.87e-07, loss_res:2.77e+00,\n",
      "Epoch #  73000/100000    time:42.33\n",
      "loss:9.60e-05, loss_ics:4.69e-07, loss_res:2.80e+00,\n",
      "Epoch #  74000/100000    time:43.73\n",
      "loss:1.91e-04, loss_ics:6.92e-07, loss_res:2.76e+00,\n",
      "Epoch #  75000/100000    time:43.73\n",
      "loss:1.71e-04, loss_ics:4.86e-07, loss_res:2.75e+00,\n",
      "Epoch #  76000/100000    time:41.02\n",
      "loss:2.17e-04, loss_ics:6.17e-07, loss_res:2.76e+00,\n",
      "Epoch #  77000/100000    time:41.90\n",
      "loss:1.48e-04, loss_ics:4.41e-07, loss_res:2.74e+00,\n",
      "Epoch #  78000/100000    time:42.96\n",
      "loss:2.26e-04, loss_ics:5.05e-07, loss_res:2.75e+00,\n",
      "Epoch #  79000/100000    time:42.20\n",
      "loss:1.45e-04, loss_ics:6.97e-07, loss_res:2.74e+00,\n",
      "Epoch #  80000/100000    time:41.62\n",
      "loss:1.31e-04, loss_ics:4.33e-07, loss_res:2.75e+00,\n"
     ]
    },
    {
     "ename": "KeyboardInterrupt",
     "evalue": "",
     "output_type": "error",
     "traceback": [
      "\u001b[0;31m---------------------------------------------------------------------------\u001b[0m",
      "\u001b[0;31mKeyboardInterrupt\u001b[0m                         Traceback (most recent call last)",
      "\u001b[0;32m<ipython-input-96-b7ab6d38084a>\u001b[0m in \u001b[0;36m<module>\u001b[0;34m\u001b[0m\n\u001b[1;32m      1\u001b[0m \u001b[0mtrainer\u001b[0m \u001b[0;34m=\u001b[0m \u001b[0mTrainer_Wave\u001b[0m\u001b[0;34m(\u001b[0m\u001b[0margs\u001b[0m\u001b[0;34m)\u001b[0m\u001b[0;34m\u001b[0m\u001b[0;34m\u001b[0m\u001b[0m\n\u001b[0;32m----> 2\u001b[0;31m \u001b[0mtrainer\u001b[0m\u001b[0;34m.\u001b[0m\u001b[0mtrain\u001b[0m\u001b[0;34m(\u001b[0m\u001b[0;34m)\u001b[0m\u001b[0;34m\u001b[0m\u001b[0;34m\u001b[0m\u001b[0m\n\u001b[0m",
      "\u001b[0;32m<ipython-input-95-a9f808a9b22e>\u001b[0m in \u001b[0;36mtrain\u001b[0;34m(self)\u001b[0m\n\u001b[1;32m     94\u001b[0m         \u001b[0;32mfor\u001b[0m \u001b[0mepoch\u001b[0m \u001b[0;32min\u001b[0m \u001b[0mrange\u001b[0m\u001b[0;34m(\u001b[0m\u001b[0mself\u001b[0m\u001b[0;34m.\u001b[0m\u001b[0mepochs_Adam\u001b[0m\u001b[0;34m)\u001b[0m\u001b[0;34m:\u001b[0m\u001b[0;34m\u001b[0m\u001b[0;34m\u001b[0m\u001b[0m\n\u001b[1;32m     95\u001b[0m             \u001b[0mself\u001b[0m\u001b[0;34m.\u001b[0m\u001b[0moptimizer_Adam\u001b[0m\u001b[0;34m.\u001b[0m\u001b[0mzero_grad\u001b[0m\u001b[0;34m(\u001b[0m\u001b[0;34m)\u001b[0m\u001b[0;34m\u001b[0m\u001b[0;34m\u001b[0m\u001b[0m\n\u001b[0;32m---> 96\u001b[0;31m             \u001b[0mloss_value\u001b[0m \u001b[0;34m=\u001b[0m \u001b[0mself\u001b[0m\u001b[0;34m.\u001b[0m\u001b[0mloss\u001b[0m\u001b[0;34m(\u001b[0m\u001b[0;34m)\u001b[0m\u001b[0;34m\u001b[0m\u001b[0;34m\u001b[0m\u001b[0m\n\u001b[0m\u001b[1;32m     97\u001b[0m             \u001b[0mloss_value\u001b[0m\u001b[0;34m.\u001b[0m\u001b[0mbackward\u001b[0m\u001b[0;34m(\u001b[0m\u001b[0;34m)\u001b[0m\u001b[0;34m\u001b[0m\u001b[0;34m\u001b[0m\u001b[0m\n\u001b[1;32m     98\u001b[0m             \u001b[0mself\u001b[0m\u001b[0;34m.\u001b[0m\u001b[0moptimizer_Adam\u001b[0m\u001b[0;34m.\u001b[0m\u001b[0mstep\u001b[0m\u001b[0;34m(\u001b[0m\u001b[0;34m)\u001b[0m\u001b[0;34m\u001b[0m\u001b[0;34m\u001b[0m\u001b[0m\n",
      "\u001b[0;32m<ipython-input-95-a9f808a9b22e>\u001b[0m in \u001b[0;36mloss\u001b[0;34m(self)\u001b[0m\n\u001b[1;32m     84\u001b[0m     \u001b[0;32mdef\u001b[0m \u001b[0mloss\u001b[0m\u001b[0;34m(\u001b[0m\u001b[0mself\u001b[0m\u001b[0;34m)\u001b[0m\u001b[0;34m:\u001b[0m\u001b[0;34m\u001b[0m\u001b[0;34m\u001b[0m\u001b[0m\n\u001b[1;32m     85\u001b[0m         \u001b[0mL0\u001b[0m \u001b[0;34m=\u001b[0m \u001b[0;36m100\u001b[0m \u001b[0;34m*\u001b[0m \u001b[0mself\u001b[0m\u001b[0;34m.\u001b[0m\u001b[0mloss_ics\u001b[0m\u001b[0;34m(\u001b[0m\u001b[0;34m)\u001b[0m\u001b[0;34m\u001b[0m\u001b[0;34m\u001b[0m\u001b[0m\n\u001b[0;32m---> 86\u001b[0;31m         \u001b[0mL_t\u001b[0m\u001b[0;34m,\u001b[0m \u001b[0mW\u001b[0m \u001b[0;34m=\u001b[0m \u001b[0mself\u001b[0m\u001b[0;34m.\u001b[0m\u001b[0mresiduals_and_weights\u001b[0m\u001b[0;34m(\u001b[0m\u001b[0;34m)\u001b[0m\u001b[0;34m\u001b[0m\u001b[0;34m\u001b[0m\u001b[0m\n\u001b[0m\u001b[1;32m     87\u001b[0m         \u001b[0mloss\u001b[0m \u001b[0;34m=\u001b[0m \u001b[0mtorch\u001b[0m\u001b[0;34m.\u001b[0m\u001b[0mmean\u001b[0m\u001b[0;34m(\u001b[0m\u001b[0mW\u001b[0m \u001b[0;34m*\u001b[0m \u001b[0mL_t\u001b[0m\u001b[0;34m)\u001b[0m \u001b[0;34m+\u001b[0m \u001b[0mL0\u001b[0m\u001b[0;34m\u001b[0m\u001b[0;34m\u001b[0m\u001b[0m\n\u001b[1;32m     88\u001b[0m \u001b[0;34m\u001b[0m\u001b[0m\n",
      "\u001b[0;32m<ipython-input-95-a9f808a9b22e>\u001b[0m in \u001b[0;36mresiduals_and_weights\u001b[0;34m(self)\u001b[0m\n\u001b[1;32m     47\u001b[0m \u001b[0;34m\u001b[0m\u001b[0m\n\u001b[1;32m     48\u001b[0m     \u001b[0;32mdef\u001b[0m \u001b[0mresiduals_and_weights\u001b[0m\u001b[0;34m(\u001b[0m\u001b[0mself\u001b[0m\u001b[0;34m)\u001b[0m\u001b[0;34m:\u001b[0m\u001b[0;34m\u001b[0m\u001b[0;34m\u001b[0m\u001b[0m\n\u001b[0;32m---> 49\u001b[0;31m         \u001b[0mr_pred\u001b[0m \u001b[0;34m=\u001b[0m \u001b[0mself\u001b[0m\u001b[0;34m.\u001b[0m\u001b[0mnet_r\u001b[0m\u001b[0;34m(\u001b[0m\u001b[0mself\u001b[0m\u001b[0;34m.\u001b[0m\u001b[0mtxg\u001b[0m\u001b[0;34m)\u001b[0m\u001b[0;34m\u001b[0m\u001b[0;34m\u001b[0m\u001b[0m\n\u001b[0m\u001b[1;32m     50\u001b[0m         \u001b[0mr_pred\u001b[0m \u001b[0;34m=\u001b[0m \u001b[0mr_pred\u001b[0m\u001b[0;34m.\u001b[0m\u001b[0mreshape\u001b[0m\u001b[0;34m(\u001b[0m\u001b[0;36m100\u001b[0m\u001b[0;34m,\u001b[0m \u001b[0;36m128\u001b[0m\u001b[0;34m)\u001b[0m \u001b[0;31m# :shape(100,100)\u001b[0m\u001b[0;34m\u001b[0m\u001b[0;34m\u001b[0m\u001b[0m\n\u001b[1;32m     51\u001b[0m         \u001b[0mq_pred\u001b[0m \u001b[0;34m=\u001b[0m \u001b[0mself\u001b[0m\u001b[0;34m.\u001b[0m\u001b[0mnet_u\u001b[0m\u001b[0;34m(\u001b[0m\u001b[0mself\u001b[0m\u001b[0;34m.\u001b[0m\u001b[0mtxg\u001b[0m\u001b[0;34m)\u001b[0m\u001b[0;34m\u001b[0m\u001b[0;34m\u001b[0m\u001b[0m\n",
      "\u001b[0;32m<ipython-input-95-a9f808a9b22e>\u001b[0m in \u001b[0;36mnet_r\u001b[0;34m(self, tx)\u001b[0m\n\u001b[1;32m     34\u001b[0m         \u001b[0mu_t\u001b[0m \u001b[0;34m=\u001b[0m \u001b[0mgrad_u\u001b[0m\u001b[0;34m[\u001b[0m\u001b[0;34m:\u001b[0m\u001b[0;34m,\u001b[0m\u001b[0;34m[\u001b[0m\u001b[0;36m0\u001b[0m\u001b[0;34m]\u001b[0m\u001b[0;34m]\u001b[0m\u001b[0;34m\u001b[0m\u001b[0;34m\u001b[0m\u001b[0m\n\u001b[1;32m     35\u001b[0m         \u001b[0mu_x\u001b[0m \u001b[0;34m=\u001b[0m \u001b[0mgrad_u\u001b[0m\u001b[0;34m[\u001b[0m\u001b[0;34m:\u001b[0m\u001b[0;34m,\u001b[0m\u001b[0;34m[\u001b[0m\u001b[0;36m1\u001b[0m\u001b[0;34m]\u001b[0m\u001b[0;34m]\u001b[0m\u001b[0;34m\u001b[0m\u001b[0;34m\u001b[0m\u001b[0m\n\u001b[0;32m---> 36\u001b[0;31m         \u001b[0mu_xx\u001b[0m \u001b[0;34m=\u001b[0m \u001b[0mgrad\u001b[0m\u001b[0;34m(\u001b[0m\u001b[0mu_x\u001b[0m\u001b[0;34m,\u001b[0m \u001b[0mtx\u001b[0m\u001b[0;34m)\u001b[0m\u001b[0;34m[\u001b[0m\u001b[0;36m0\u001b[0m\u001b[0;34m]\u001b[0m\u001b[0;34m[\u001b[0m\u001b[0;34m:\u001b[0m\u001b[0;34m,\u001b[0m \u001b[0;34m[\u001b[0m\u001b[0;36m1\u001b[0m\u001b[0;34m]\u001b[0m\u001b[0;34m]\u001b[0m\u001b[0;34m\u001b[0m\u001b[0;34m\u001b[0m\u001b[0m\n\u001b[0m\u001b[1;32m     37\u001b[0m         \u001b[0mu_xxx\u001b[0m \u001b[0;34m=\u001b[0m \u001b[0mgrad\u001b[0m\u001b[0;34m(\u001b[0m\u001b[0mu_xx\u001b[0m\u001b[0;34m,\u001b[0m \u001b[0mtx\u001b[0m\u001b[0;34m)\u001b[0m\u001b[0;34m[\u001b[0m\u001b[0;36m0\u001b[0m\u001b[0;34m]\u001b[0m\u001b[0;34m[\u001b[0m\u001b[0;34m:\u001b[0m\u001b[0;34m,\u001b[0m \u001b[0;34m[\u001b[0m\u001b[0;36m1\u001b[0m\u001b[0;34m]\u001b[0m\u001b[0;34m]\u001b[0m\u001b[0;34m\u001b[0m\u001b[0;34m\u001b[0m\u001b[0m\n\u001b[1;32m     38\u001b[0m \u001b[0;34m\u001b[0m\u001b[0m\n",
      "\u001b[0;32m<ipython-input-55-1dab598f84ec>\u001b[0m in \u001b[0;36mgrad\u001b[0;34m(outputs, inputs)\u001b[0m\n\u001b[1;32m     20\u001b[0m     return torch.autograd.grad(outputs, inputs,\n\u001b[1;32m     21\u001b[0m                                \u001b[0mgrad_outputs\u001b[0m\u001b[0;34m=\u001b[0m\u001b[0mtorch\u001b[0m\u001b[0;34m.\u001b[0m\u001b[0mones_like\u001b[0m\u001b[0;34m(\u001b[0m\u001b[0moutputs\u001b[0m\u001b[0;34m)\u001b[0m\u001b[0;34m,\u001b[0m\u001b[0;34m\u001b[0m\u001b[0;34m\u001b[0m\u001b[0m\n\u001b[0;32m---> 22\u001b[0;31m                                create_graph=True)\n\u001b[0m\u001b[1;32m     23\u001b[0m \u001b[0;34m\u001b[0m\u001b[0m\n\u001b[1;32m     24\u001b[0m \u001b[0;32mdef\u001b[0m \u001b[0mactivation\u001b[0m\u001b[0;34m(\u001b[0m\u001b[0mname\u001b[0m\u001b[0;34m)\u001b[0m\u001b[0;34m:\u001b[0m\u001b[0;34m\u001b[0m\u001b[0;34m\u001b[0m\u001b[0m\n",
      "\u001b[0;32m~/.conda/envs/pde/lib/python3.6/site-packages/torch/autograd/__init__.py\u001b[0m in \u001b[0;36mgrad\u001b[0;34m(outputs, inputs, grad_outputs, retain_graph, create_graph, only_inputs, allow_unused)\u001b[0m\n\u001b[1;32m    190\u001b[0m     return Variable._execution_engine.run_backward(\n\u001b[1;32m    191\u001b[0m         \u001b[0moutputs\u001b[0m\u001b[0;34m,\u001b[0m \u001b[0mgrad_outputs\u001b[0m\u001b[0;34m,\u001b[0m \u001b[0mretain_graph\u001b[0m\u001b[0;34m,\u001b[0m \u001b[0mcreate_graph\u001b[0m\u001b[0;34m,\u001b[0m\u001b[0;34m\u001b[0m\u001b[0;34m\u001b[0m\u001b[0m\n\u001b[0;32m--> 192\u001b[0;31m         inputs, allow_unused)\n\u001b[0m\u001b[1;32m    193\u001b[0m \u001b[0;34m\u001b[0m\u001b[0m\n\u001b[1;32m    194\u001b[0m \u001b[0;34m\u001b[0m\u001b[0m\n",
      "\u001b[0;31mKeyboardInterrupt\u001b[0m: "
     ]
    }
   ],
   "source": [
    "trainer = Trainer_Wave(args)\n",
    "trainer.train()"
   ]
  },
  {
   "cell_type": "code",
   "execution_count": 48,
   "metadata": {},
   "outputs": [
    {
     "name": "stdout",
     "output_type": "stream",
     "text": [
      "(100, 128) (100, 128)\n"
     ]
    },
    {
     "ename": "RuntimeError",
     "evalue": "Expected all tensors to be on the same device, but found at least two devices, cuda:0 and cpu!",
     "output_type": "error",
     "traceback": [
      "\u001b[0;31m---------------------------------------------------------------------------\u001b[0m",
      "\u001b[0;31mRuntimeError\u001b[0m                              Traceback (most recent call last)",
      "\u001b[0;32m<ipython-input-48-b7ab6d38084a>\u001b[0m in \u001b[0;36m<module>\u001b[0;34m\u001b[0m\n\u001b[1;32m      1\u001b[0m \u001b[0mtrainer\u001b[0m \u001b[0;34m=\u001b[0m \u001b[0mTrainer_Wave\u001b[0m\u001b[0;34m(\u001b[0m\u001b[0margs\u001b[0m\u001b[0;34m)\u001b[0m\u001b[0;34m\u001b[0m\u001b[0;34m\u001b[0m\u001b[0m\n\u001b[0;32m----> 2\u001b[0;31m \u001b[0mtrainer\u001b[0m\u001b[0;34m.\u001b[0m\u001b[0mtrain\u001b[0m\u001b[0;34m(\u001b[0m\u001b[0;34m)\u001b[0m\u001b[0;34m\u001b[0m\u001b[0;34m\u001b[0m\u001b[0m\n\u001b[0m",
      "\u001b[0;32m<ipython-input-47-9903dafdc8b7>\u001b[0m in \u001b[0;36mtrain\u001b[0;34m(self)\u001b[0m\n\u001b[1;32m     92\u001b[0m         \u001b[0;32mfor\u001b[0m \u001b[0mepoch\u001b[0m \u001b[0;32min\u001b[0m \u001b[0mrange\u001b[0m\u001b[0;34m(\u001b[0m\u001b[0mself\u001b[0m\u001b[0;34m.\u001b[0m\u001b[0mepochs_Adam\u001b[0m\u001b[0;34m)\u001b[0m\u001b[0;34m:\u001b[0m\u001b[0;34m\u001b[0m\u001b[0;34m\u001b[0m\u001b[0m\n\u001b[1;32m     93\u001b[0m             \u001b[0mself\u001b[0m\u001b[0;34m.\u001b[0m\u001b[0moptimizer_Adam\u001b[0m\u001b[0;34m.\u001b[0m\u001b[0mzero_grad\u001b[0m\u001b[0;34m(\u001b[0m\u001b[0;34m)\u001b[0m\u001b[0;34m\u001b[0m\u001b[0;34m\u001b[0m\u001b[0m\n\u001b[0;32m---> 94\u001b[0;31m             \u001b[0mloss_value\u001b[0m \u001b[0;34m=\u001b[0m \u001b[0mself\u001b[0m\u001b[0;34m.\u001b[0m\u001b[0mloss\u001b[0m\u001b[0;34m(\u001b[0m\u001b[0;34m)\u001b[0m\u001b[0;34m\u001b[0m\u001b[0;34m\u001b[0m\u001b[0m\n\u001b[0m\u001b[1;32m     95\u001b[0m             \u001b[0mloss_value\u001b[0m\u001b[0;34m.\u001b[0m\u001b[0mbackward\u001b[0m\u001b[0;34m(\u001b[0m\u001b[0;34m)\u001b[0m\u001b[0;34m\u001b[0m\u001b[0;34m\u001b[0m\u001b[0m\n\u001b[1;32m     96\u001b[0m             \u001b[0mself\u001b[0m\u001b[0;34m.\u001b[0m\u001b[0moptimizer_Adam\u001b[0m\u001b[0;34m.\u001b[0m\u001b[0mstep\u001b[0m\u001b[0;34m(\u001b[0m\u001b[0;34m)\u001b[0m\u001b[0;34m\u001b[0m\u001b[0;34m\u001b[0m\u001b[0m\n",
      "\u001b[0;32m<ipython-input-47-9903dafdc8b7>\u001b[0m in \u001b[0;36mloss\u001b[0;34m(self)\u001b[0m\n\u001b[1;32m     81\u001b[0m \u001b[0;34m\u001b[0m\u001b[0m\n\u001b[1;32m     82\u001b[0m     \u001b[0;32mdef\u001b[0m \u001b[0mloss\u001b[0m\u001b[0;34m(\u001b[0m\u001b[0mself\u001b[0m\u001b[0;34m)\u001b[0m\u001b[0;34m:\u001b[0m\u001b[0;34m\u001b[0m\u001b[0;34m\u001b[0m\u001b[0m\n\u001b[0;32m---> 83\u001b[0;31m         \u001b[0mL0\u001b[0m \u001b[0;34m=\u001b[0m \u001b[0;36m100\u001b[0m \u001b[0;34m*\u001b[0m \u001b[0mself\u001b[0m\u001b[0;34m.\u001b[0m\u001b[0mloss_ics\u001b[0m\u001b[0;34m(\u001b[0m\u001b[0;34m)\u001b[0m\u001b[0;34m\u001b[0m\u001b[0;34m\u001b[0m\u001b[0m\n\u001b[0m\u001b[1;32m     84\u001b[0m         \u001b[0mL_t\u001b[0m\u001b[0;34m,\u001b[0m \u001b[0mW\u001b[0m \u001b[0;34m=\u001b[0m \u001b[0mself\u001b[0m\u001b[0;34m.\u001b[0m\u001b[0mresiduals_and_weights\u001b[0m\u001b[0;34m(\u001b[0m\u001b[0;34m)\u001b[0m\u001b[0;34m\u001b[0m\u001b[0;34m\u001b[0m\u001b[0m\n\u001b[1;32m     85\u001b[0m         \u001b[0mloss\u001b[0m \u001b[0;34m=\u001b[0m \u001b[0mtorch\u001b[0m\u001b[0;34m.\u001b[0m\u001b[0mmean\u001b[0m\u001b[0;34m(\u001b[0m\u001b[0mW\u001b[0m \u001b[0;34m*\u001b[0m \u001b[0mL_t\u001b[0m\u001b[0;34m)\u001b[0m \u001b[0;34m+\u001b[0m \u001b[0mL0\u001b[0m\u001b[0;34m\u001b[0m\u001b[0;34m\u001b[0m\u001b[0m\n",
      "\u001b[0;32m<ipython-input-47-9903dafdc8b7>\u001b[0m in \u001b[0;36mloss_ics\u001b[0;34m(self)\u001b[0m\n\u001b[1;32m     71\u001b[0m \u001b[0;34m\u001b[0m\u001b[0m\n\u001b[1;32m     72\u001b[0m     \u001b[0;32mdef\u001b[0m \u001b[0mloss_ics\u001b[0m\u001b[0;34m(\u001b[0m\u001b[0mself\u001b[0m\u001b[0;34m)\u001b[0m\u001b[0;34m:\u001b[0m\u001b[0;34m\u001b[0m\u001b[0;34m\u001b[0m\u001b[0m\n\u001b[0;32m---> 73\u001b[0;31m         \u001b[0mu_pred\u001b[0m \u001b[0;34m=\u001b[0m \u001b[0mself\u001b[0m\u001b[0;34m.\u001b[0m\u001b[0mnet_u\u001b[0m\u001b[0;34m(\u001b[0m\u001b[0mself\u001b[0m\u001b[0;34m.\u001b[0m\u001b[0mtx_ics\u001b[0m\u001b[0;34m)\u001b[0m\u001b[0;34m\u001b[0m\u001b[0;34m\u001b[0m\u001b[0m\n\u001b[0m\u001b[1;32m     74\u001b[0m         \u001b[0mloss_ics\u001b[0m \u001b[0;34m=\u001b[0m \u001b[0mtorch\u001b[0m\u001b[0;34m.\u001b[0m\u001b[0mmean\u001b[0m\u001b[0;34m(\u001b[0m\u001b[0;34m(\u001b[0m\u001b[0mu_pred\u001b[0m \u001b[0;34m-\u001b[0m \u001b[0mself\u001b[0m\u001b[0;34m.\u001b[0m\u001b[0mu_ics\u001b[0m\u001b[0;34m)\u001b[0m\u001b[0;34m**\u001b[0m\u001b[0;36m2\u001b[0m\u001b[0;34m)\u001b[0m\u001b[0;34m\u001b[0m\u001b[0;34m\u001b[0m\u001b[0m\n\u001b[1;32m     75\u001b[0m         \u001b[0;32mreturn\u001b[0m \u001b[0mloss_ics\u001b[0m\u001b[0;34m\u001b[0m\u001b[0;34m\u001b[0m\u001b[0m\n",
      "\u001b[0;32m<ipython-input-47-9903dafdc8b7>\u001b[0m in \u001b[0;36mnet_u\u001b[0;34m(self, tx)\u001b[0m\n\u001b[1;32m     42\u001b[0m \u001b[0;34m\u001b[0m\u001b[0m\n\u001b[1;32m     43\u001b[0m     \u001b[0;32mdef\u001b[0m \u001b[0mnet_u\u001b[0m\u001b[0;34m(\u001b[0m\u001b[0mself\u001b[0m\u001b[0;34m,\u001b[0m \u001b[0mtx\u001b[0m\u001b[0;34m)\u001b[0m\u001b[0;34m:\u001b[0m\u001b[0;34m\u001b[0m\u001b[0;34m\u001b[0m\u001b[0m\n\u001b[0;32m---> 44\u001b[0;31m         \u001b[0mu\u001b[0m \u001b[0;34m=\u001b[0m \u001b[0mself\u001b[0m\u001b[0;34m.\u001b[0m\u001b[0mmodel\u001b[0m\u001b[0;34m(\u001b[0m\u001b[0mtx\u001b[0m\u001b[0;34m)\u001b[0m\u001b[0;34m\u001b[0m\u001b[0;34m\u001b[0m\u001b[0m\n\u001b[0m\u001b[1;32m     45\u001b[0m         \u001b[0;32mreturn\u001b[0m \u001b[0mu\u001b[0m\u001b[0;34m\u001b[0m\u001b[0;34m\u001b[0m\u001b[0m\n\u001b[1;32m     46\u001b[0m \u001b[0;34m\u001b[0m\u001b[0m\n",
      "\u001b[0;32m~/.conda/envs/pde/lib/python3.6/site-packages/torch/nn/modules/module.py\u001b[0m in \u001b[0;36m_call_impl\u001b[0;34m(self, *input, **kwargs)\u001b[0m\n\u001b[1;32m    720\u001b[0m             \u001b[0mresult\u001b[0m \u001b[0;34m=\u001b[0m \u001b[0mself\u001b[0m\u001b[0;34m.\u001b[0m\u001b[0m_slow_forward\u001b[0m\u001b[0;34m(\u001b[0m\u001b[0;34m*\u001b[0m\u001b[0minput\u001b[0m\u001b[0;34m,\u001b[0m \u001b[0;34m**\u001b[0m\u001b[0mkwargs\u001b[0m\u001b[0;34m)\u001b[0m\u001b[0;34m\u001b[0m\u001b[0;34m\u001b[0m\u001b[0m\n\u001b[1;32m    721\u001b[0m         \u001b[0;32melse\u001b[0m\u001b[0;34m:\u001b[0m\u001b[0;34m\u001b[0m\u001b[0;34m\u001b[0m\u001b[0m\n\u001b[0;32m--> 722\u001b[0;31m             \u001b[0mresult\u001b[0m \u001b[0;34m=\u001b[0m \u001b[0mself\u001b[0m\u001b[0;34m.\u001b[0m\u001b[0mforward\u001b[0m\u001b[0;34m(\u001b[0m\u001b[0;34m*\u001b[0m\u001b[0minput\u001b[0m\u001b[0;34m,\u001b[0m \u001b[0;34m**\u001b[0m\u001b[0mkwargs\u001b[0m\u001b[0;34m)\u001b[0m\u001b[0;34m\u001b[0m\u001b[0;34m\u001b[0m\u001b[0m\n\u001b[0m\u001b[1;32m    723\u001b[0m         for hook in itertools.chain(\n\u001b[1;32m    724\u001b[0m                 \u001b[0m_global_forward_hooks\u001b[0m\u001b[0;34m.\u001b[0m\u001b[0mvalues\u001b[0m\u001b[0;34m(\u001b[0m\u001b[0;34m)\u001b[0m\u001b[0;34m,\u001b[0m\u001b[0;34m\u001b[0m\u001b[0;34m\u001b[0m\u001b[0m\n",
      "\u001b[0;32m<ipython-input-7-57bb149e7551>\u001b[0m in \u001b[0;36mforward\u001b[0;34m(self, H)\u001b[0m\n\u001b[1;32m     61\u001b[0m         \u001b[0mx\u001b[0m \u001b[0;34m=\u001b[0m \u001b[0mH\u001b[0m\u001b[0;34m[\u001b[0m\u001b[0;34m:\u001b[0m\u001b[0;34m,\u001b[0m \u001b[0;36m1\u001b[0m\u001b[0;34m:\u001b[0m\u001b[0;36m2\u001b[0m\u001b[0;34m]\u001b[0m\u001b[0;34m\u001b[0m\u001b[0;34m\u001b[0m\u001b[0m\n\u001b[1;32m     62\u001b[0m \u001b[0;34m\u001b[0m\u001b[0m\n\u001b[0;32m---> 63\u001b[0;31m         \u001b[0mH\u001b[0m \u001b[0;34m=\u001b[0m \u001b[0mself\u001b[0m\u001b[0;34m.\u001b[0m\u001b[0minput_encoding\u001b[0m\u001b[0;34m(\u001b[0m\u001b[0mt\u001b[0m\u001b[0;34m,\u001b[0m \u001b[0mx\u001b[0m\u001b[0;34m)\u001b[0m\u001b[0;34m\u001b[0m\u001b[0;34m\u001b[0m\u001b[0m\n\u001b[0m\u001b[1;32m     64\u001b[0m         \u001b[0mH\u001b[0m \u001b[0;34m=\u001b[0m \u001b[0mself\u001b[0m\u001b[0;34m.\u001b[0m\u001b[0mmodel\u001b[0m\u001b[0;34m(\u001b[0m\u001b[0mH\u001b[0m\u001b[0;34m)\u001b[0m\u001b[0;34m\u001b[0m\u001b[0;34m\u001b[0m\u001b[0m\n\u001b[1;32m     65\u001b[0m \u001b[0;34m\u001b[0m\u001b[0m\n",
      "\u001b[0;32m<ipython-input-7-57bb149e7551>\u001b[0m in \u001b[0;36minput_encoding\u001b[0;34m(self, t, x)\u001b[0m\n\u001b[1;32m     53\u001b[0m         \u001b[0mw\u001b[0m \u001b[0;34m=\u001b[0m \u001b[0;36m2.0\u001b[0m \u001b[0;34m*\u001b[0m \u001b[0mmath\u001b[0m\u001b[0;34m.\u001b[0m\u001b[0mpi\u001b[0m \u001b[0;34m/\u001b[0m \u001b[0mself\u001b[0m\u001b[0;34m.\u001b[0m\u001b[0mL\u001b[0m\u001b[0;34m\u001b[0m\u001b[0;34m\u001b[0m\u001b[0m\n\u001b[1;32m     54\u001b[0m         out = torch.cat([t, torch.ones_like(t), \n\u001b[0;32m---> 55\u001b[0;31m                             torch.cos(self.k * w * x), torch.sin(self.k * w * x)], dim = 1) \n\u001b[0m\u001b[1;32m     56\u001b[0m \u001b[0;34m\u001b[0m\u001b[0m\n\u001b[1;32m     57\u001b[0m         \u001b[0;32mreturn\u001b[0m \u001b[0mout\u001b[0m\u001b[0;34m\u001b[0m\u001b[0;34m\u001b[0m\u001b[0m\n",
      "\u001b[0;31mRuntimeError\u001b[0m: Expected all tensors to be on the same device, but found at least two devices, cuda:0 and cpu!"
     ]
    }
   ],
   "source": [
    "trainer = Trainer_Wave(args)\n",
    "trainer.train()"
   ]
  },
  {
   "cell_type": "code",
   "execution_count": 41,
   "metadata": {},
   "outputs": [],
   "source": [
    "file = f'{args.epochs_Adam}epoch,{args.step_size}step_size,{args.tol}tol,ex_4_2'\n",
    "if os.path.exists(file)==False:\n",
    "    os.mkdir(file)"
   ]
  },
  {
   "cell_type": "code",
   "execution_count": 42,
   "metadata": {},
   "outputs": [
    {
     "data": {
      "image/png": "[encoded data removed]",
      "text/plain": [
       "<Figure size 432x288 with 1 Axes>"
      ]
     },
     "metadata": {
      "needs_background": "light"
     },
     "output_type": "display_data"
    }
   ],
   "source": [
    "plt.plot(trainer.epoch_log, trainer.loss_ics_log, label='loss_ic')\n",
    "plt.plot(trainer.epoch_log, trainer.loss_res_log, label='loss_r')\n",
    "plt.yscale('log')\n",
    "plt.legend()\n",
    "plt.savefig(f'{file}/loss.jpg')"
   ]
  },
  {
   "cell_type": "code",
   "execution_count": 43,
   "metadata": {
    "scrolled": false
   },
   "outputs": [
    {
     "name": "stderr",
     "output_type": "stream",
     "text": [
      "/home/stu1/.conda/envs/pde/lib/python3.6/site-packages/ipykernel_launcher.py:11: MatplotlibDeprecationWarning: shading='flat' when X and Y have the same dimensions as C is deprecated since 3.3.  Either specify the corners of the quadrilaterals with X and Y, or pass shading='auto', 'nearest' or 'gouraud', or set rcParams['pcolor.shading'].  This will become an error two minor releases later.\n",
      "  # This is added back by InteractiveShellApp.init_path()\n"
     ]
    },
    {
     "data": {
      "text/plain": [
       "Text(0, 0.5, '$x$')"
      ]
     },
     "execution_count": 43,
     "metadata": {},
     "output_type": "execute_result"
    },
    {
     "data": {
      "image/png": "[encoded data removed]",
      "text/plain": [
       "<Figure size 432x288 with 2 Axes>"
      ]
     },
     "metadata": {
      "needs_background": "light"
     },
     "output_type": "display_data"
    }
   ],
   "source": [
    "# load the data\n",
    "data = scipy.io.loadmat('data/KdV.mat')\n",
    "usol = data['uu']\n",
    "\n",
    "# Grid\n",
    "t_star = data['tt'][0]\n",
    "x_star = data['x'][0]\n",
    "TT, XX = np.meshgrid(t_star, x_star)\n",
    "\n",
    "# Reference solution\n",
    "plt.pcolor(TT, XX, usol, cmap='jet')\n",
    "plt.colorbar()\n",
    "plt.xlabel('$t$')\n",
    "plt.ylabel('$x$')"
   ]
  },
  {
   "cell_type": "code",
   "execution_count": 44,
   "metadata": {},
   "outputs": [
    {
     "name": "stdout",
     "output_type": "stream",
     "text": [
      "Relative l2 error: 7.599e-01\n"
     ]
    }
   ],
   "source": [
    "# Get trained network parameters\n",
    "TX = np.hstack((TT.reshape(-1,1), XX.reshape(-1,1)))\n",
    "TX = torch.from_numpy(TX).double()\n",
    "\n",
    "model = trainer.model.cpu().double()\n",
    "u_pred = model(TX).detach().numpy()\n",
    "u_pred = u_pred.reshape(TT.shape)\n",
    "\n",
    "error = np.linalg.norm(u_pred - usol) / np.linalg.norm(usol) \n",
    "print('Relative l2 error: {:.3e}'.format(error))"
   ]
  },
  {
   "cell_type": "code",
   "execution_count": null,
   "metadata": {},
   "outputs": [],
   "source": [
    "fig = plt.figure(figsize=(18, 5))\n",
    "plt.subplot(1, 3, 1)\n",
    "plt.pcolor(TT, XX, usol, cmap='jet')\n",
    "plt.colorbar()\n",
    "plt.xlabel('$t$')\n",
    "plt.ylabel('$x$')\n",
    "plt.title(r'Exact $u(x)$')\n",
    "plt.tight_layout()\n",
    "\n",
    "plt.subplot(1, 3, 2)\n",
    "plt.pcolor(TT, XX, u_pred, cmap='jet')\n",
    "plt.colorbar()\n",
    "plt.xlabel('$t$')\n",
    "plt.ylabel('$x$')\n",
    "plt.title(r'Predicted $u(x)$')\n",
    "plt.tight_layout()\n",
    "\n",
    "plt.subplot(1, 3, 3)\n",
    "plt.pcolor(TT, XX, np.abs(usol - u_pred), cmap='jet')\n",
    "plt.colorbar()\n",
    "plt.xlabel('$t$')\n",
    "plt.ylabel('$x$')\n",
    "plt.title('Absolute error')\n",
    "plt.tight_layout()\n",
    "plt.savefig(f'{file}/predict.jpg')\n",
    "plt.show()"
   ]
  },
  {
   "cell_type": "code",
   "execution_count": null,
   "metadata": {},
   "outputs": [],
   "source": [
    "fig = plt.figure(figsize=(13, 4))\n",
    "plt.subplot(1, 3, 1)\n",
    "plt.plot(x_star, usol[:,0], color='blue')\n",
    "plt.plot(x_star, u_pred[:,0], '--', color='red')\n",
    "plt.xlabel('$x$')\n",
    "plt.ylabel('$u(t, x)$')\n",
    "plt.title('$t = 0$')\n",
    "plt.tight_layout()\n",
    "\n",
    "plt.subplot(1, 3, 2)\n",
    "plt.plot(x_star, usol[:,25], color='blue')\n",
    "plt.plot(x_star, u_pred[:,25], '--', color='red')\n",
    "plt.xlabel('$x$')\n",
    "plt.ylabel('$u(t, x)$')\n",
    "plt.title('$t = 0.5$')\n",
    "plt.tight_layout()\n",
    "\n",
    "plt.subplot(1, 3, 3)\n",
    "plt.plot(x_star, usol[:,-1], color='blue')\n",
    "plt.plot(x_star, u_pred[:,-1], '--', color='red')\n",
    "plt.xlabel('$x$')\n",
    "plt.ylabel('$u(t, x)$')\n",
    "plt.title('$t = 1.0$')\n",
    "plt.tight_layout()\n",
    "plt.savefig(f'{file}/check_t.jpg')\n",
    "plt.show()"
   ]
  },
  {
   "cell_type": "code",
   "execution_count": null,
   "metadata": {},
   "outputs": [],
   "source": [
    "L_t = trainer.L_t_log[-1].numpy()\n",
    "W = trainer.W_log[-1].numpy()\n",
    "t_r = np.linspace(0, 1, 100)"
   ]
  },
  {
   "cell_type": "code",
   "execution_count": null,
   "metadata": {},
   "outputs": [],
   "source": [
    "fig = plt.figure(figsize=(6, 5))\n",
    "plt.plot(t_r, W)\n",
    "plt.xlabel('$t$')\n",
    "plt.ylabel('$w(t)$')"
   ]
  },
  {
   "cell_type": "code",
   "execution_count": null,
   "metadata": {
    "scrolled": false
   },
   "outputs": [],
   "source": [
    "fig = plt.figure(figsize=(6, 5))\n",
    "plt.plot(t_r, L_t)\n",
    "plt.xlabel('$t$')\n",
    "plt.ylabel('$\\mathcal{L}(t, \\\\theta)$')"
   ]
  },
  {
   "cell_type": "code",
   "execution_count": null,
   "metadata": {},
   "outputs": [],
   "source": [
    "import matplotlib.pyplot as plt\n",
    "import matplotlib.animation as animation\n",
    "import numpy as np\n",
    "\n",
    "fig = plt.figure()\n",
    "ims = []\n",
    "for i in range(len(trainer.W_log)):\n",
    "    im = plt.plot(t_r, trainer.W_log[i],'b')\n",
    "    ims.append(im)\n",
    "ani = animation.ArtistAnimation(fig, ims, interval=20, repeat_delay=50)\n",
    "ani.save(f\"{file}/weight.gif\",writer='pillow')"
   ]
  },
  {
   "cell_type": "code",
   "execution_count": null,
   "metadata": {},
   "outputs": [],
   "source": [
    "import matplotlib.pyplot as plt\n",
    "import matplotlib.animation as animation\n",
    "import numpy as np\n",
    "\n",
    "fig = plt.figure()\n",
    "ims = []\n",
    "for i in range(len(trainer.L_t_log)):\n",
    "    im = plt.plot(t_r, trainer.L_t_log[i],'b')\n",
    "    plt.yscale('log')\n",
    "    ims.append(im)\n",
    "ani = animation.ArtistAnimation(fig, ims, interval=20, repeat_delay=50)\n",
    "ani.save(f\"{file}/loss_t.gif\",writer='pillow')"
   ]
  },
  {
   "cell_type": "code",
   "execution_count": 30,
   "metadata": {},
   "outputs": [],
   "source": [
    "gp = np.array([0.8611363116,-0.8611363116,0.3399810436,-0.3399810436])\n",
    "gc = np.array([0.3478548451,0.3478548451,0.6521451549,0.6521451549])"
   ]
  },
  {
   "cell_type": "code",
   "execution_count": 31,
   "metadata": {},
   "outputs": [],
   "source": [
    "l = np.linspace(-1, 1, 26)[:, None]"
   ]
  },
  {
   "cell_type": "code",
   "execution_count": 32,
   "metadata": {},
   "outputs": [
    {
     "name": "stdout",
     "output_type": "stream",
     "text": [
      "[[-1.   -0.92]\n",
      " [-0.92 -0.84]\n",
      " [-0.84 -0.76]\n",
      " [-0.76 -0.68]\n",
      " [-0.68 -0.6 ]\n",
      " [-0.6  -0.52]\n",
      " [-0.52 -0.44]\n",
      " [-0.44 -0.36]\n",
      " [-0.36 -0.28]\n",
      " [-0.28 -0.2 ]\n",
      " [-0.2  -0.12]\n",
      " [-0.12 -0.04]\n",
      " [-0.04  0.04]\n",
      " [ 0.04  0.12]\n",
      " [ 0.12  0.2 ]\n",
      " [ 0.2   0.28]\n",
      " [ 0.28  0.36]\n",
      " [ 0.36  0.44]\n",
      " [ 0.44  0.52]\n",
      " [ 0.52  0.6 ]\n",
      " [ 0.6   0.68]\n",
      " [ 0.68  0.76]\n",
      " [ 0.76  0.84]\n",
      " [ 0.84  0.92]\n",
      " [ 0.92  1.  ]] (25, 2)\n"
     ]
    }
   ],
   "source": [
    "l = np.hstack([l[:-1], l[1:]])\n",
    "print(l, l.shape)"
   ]
  },
  {
   "cell_type": "code",
   "execution_count": 33,
   "metadata": {},
   "outputs": [
    {
     "name": "stdout",
     "output_type": "stream",
     "text": [
      "(25,)\n"
     ]
    }
   ],
   "source": [
    "c = (l[:, 1] - l[:, 0])/2\n",
    "print(c.shape)"
   ]
  },
  {
   "cell_type": "code",
   "execution_count": 34,
   "metadata": {},
   "outputs": [
    {
     "data": {
      "text/plain": [
       "(25, 1)"
      ]
     },
     "execution_count": 34,
     "metadata": {},
     "output_type": "execute_result"
    }
   ],
   "source": [
    "c = c[:, None]\n",
    "c.shape"
   ]
  },
  {
   "cell_type": "code",
   "execution_count": 35,
   "metadata": {},
   "outputs": [
    {
     "data": {
      "text/plain": [
       "array([[0.04],\n",
       "       [0.04],\n",
       "       [0.04],\n",
       "       [0.04],\n",
       "       [0.04],\n",
       "       [0.04],\n",
       "       [0.04],\n",
       "       [0.04],\n",
       "       [0.04],\n",
       "       [0.04],\n",
       "       [0.04],\n",
       "       [0.04],\n",
       "       [0.04],\n",
       "       [0.04],\n",
       "       [0.04],\n",
       "       [0.04],\n",
       "       [0.04],\n",
       "       [0.04],\n",
       "       [0.04],\n",
       "       [0.04],\n",
       "       [0.04],\n",
       "       [0.04],\n",
       "       [0.04],\n",
       "       [0.04],\n",
       "       [0.04]])"
      ]
     },
     "execution_count": 35,
     "metadata": {},
     "output_type": "execute_result"
    }
   ],
   "source": [
    "c"
   ]
  },
  {
   "cell_type": "code",
   "execution_count": 36,
   "metadata": {},
   "outputs": [
    {
     "data": {
      "text/plain": [
       "(1, 4)"
      ]
     },
     "execution_count": 36,
     "metadata": {},
     "output_type": "execute_result"
    }
   ],
   "source": [
    "gp = gp[None, :]\n",
    "gp.shape"
   ]
  },
  {
   "cell_type": "code",
   "execution_count": 37,
   "metadata": {},
   "outputs": [],
   "source": [
    "d = ((l[:, 1] + l[:, 0])/2)\n",
    "d.shape\n",
    "d = d[:, None]"
   ]
  },
  {
   "cell_type": "code",
   "execution_count": 38,
   "metadata": {},
   "outputs": [
    {
     "data": {
      "text/plain": [
       "(25, 1)"
      ]
     },
     "execution_count": 38,
     "metadata": {},
     "output_type": "execute_result"
    }
   ],
   "source": [
    "d.shape"
   ]
  },
  {
   "cell_type": "code",
   "execution_count": 50,
   "metadata": {},
   "outputs": [
    {
     "data": {
      "text/plain": [
       "array([[-0.96],\n",
       "       [-0.88],\n",
       "       [-0.8 ],\n",
       "       [-0.72],\n",
       "       [-0.64],\n",
       "       [-0.56],\n",
       "       [-0.48],\n",
       "       [-0.4 ],\n",
       "       [-0.32],\n",
       "       [-0.24],\n",
       "       [-0.16],\n",
       "       [-0.08],\n",
       "       [ 0.  ],\n",
       "       [ 0.08],\n",
       "       [ 0.16],\n",
       "       [ 0.24],\n",
       "       [ 0.32],\n",
       "       [ 0.4 ],\n",
       "       [ 0.48],\n",
       "       [ 0.56],\n",
       "       [ 0.64],\n",
       "       [ 0.72],\n",
       "       [ 0.8 ],\n",
       "       [ 0.88],\n",
       "       [ 0.96]])"
      ]
     },
     "execution_count": 50,
     "metadata": {},
     "output_type": "execute_result"
    }
   ],
   "source": [
    "d"
   ]
  },
  {
   "cell_type": "code",
   "execution_count": 39,
   "metadata": {},
   "outputs": [],
   "source": [
    "n_p = c * gp + d"
   ]
  },
  {
   "cell_type": "code",
   "execution_count": 40,
   "metadata": {},
   "outputs": [
    {
     "data": {
      "text/plain": [
       "(25, 4)"
      ]
     },
     "execution_count": 40,
     "metadata": {},
     "output_type": "execute_result"
    }
   ],
   "source": [
    "n_p.shape"
   ]
  },
  {
   "cell_type": "code",
   "execution_count": 53,
   "metadata": {},
   "outputs": [
    {
     "data": {
      "text/plain": [
       "array([[-0.92555455, -0.99444545, -0.94640076, -0.97359924],\n",
       "       [-0.84555455, -0.91444545, -0.86640076, -0.89359924],\n",
       "       [-0.76555455, -0.83444545, -0.78640076, -0.81359924],\n",
       "       [-0.68555455, -0.75444545, -0.70640076, -0.73359924],\n",
       "       [-0.60555455, -0.67444545, -0.62640076, -0.65359924],\n",
       "       [-0.52555455, -0.59444545, -0.54640076, -0.57359924],\n",
       "       [-0.44555455, -0.51444545, -0.46640076, -0.49359924],\n",
       "       [-0.36555455, -0.43444545, -0.38640076, -0.41359924],\n",
       "       [-0.28555455, -0.35444545, -0.30640076, -0.33359924],\n",
       "       [-0.20555455, -0.27444545, -0.22640076, -0.25359924],\n",
       "       [-0.12555455, -0.19444545, -0.14640076, -0.17359924],\n",
       "       [-0.04555455, -0.11444545, -0.06640076, -0.09359924],\n",
       "       [ 0.03444545, -0.03444545,  0.01359924, -0.01359924],\n",
       "       [ 0.11444545,  0.04555455,  0.09359924,  0.06640076],\n",
       "       [ 0.19444545,  0.12555455,  0.17359924,  0.14640076],\n",
       "       [ 0.27444545,  0.20555455,  0.25359924,  0.22640076],\n",
       "       [ 0.35444545,  0.28555455,  0.33359924,  0.30640076],\n",
       "       [ 0.43444545,  0.36555455,  0.41359924,  0.38640076],\n",
       "       [ 0.51444545,  0.44555455,  0.49359924,  0.46640076],\n",
       "       [ 0.59444545,  0.52555455,  0.57359924,  0.54640076],\n",
       "       [ 0.67444545,  0.60555455,  0.65359924,  0.62640076],\n",
       "       [ 0.75444545,  0.68555455,  0.73359924,  0.70640076],\n",
       "       [ 0.83444545,  0.76555455,  0.81359924,  0.78640076],\n",
       "       [ 0.91444545,  0.84555455,  0.89359924,  0.86640076],\n",
       "       [ 0.99444545,  0.92555455,  0.97359924,  0.94640076]])"
      ]
     },
     "execution_count": 53,
     "metadata": {},
     "output_type": "execute_result"
    }
   ],
   "source": [
    "n_p"
   ]
  },
  {
   "cell_type": "code",
   "execution_count": 41,
   "metadata": {},
   "outputs": [],
   "source": [
    "gc = gc[None, :]"
   ]
  },
  {
   "cell_type": "code",
   "execution_count": 42,
   "metadata": {},
   "outputs": [],
   "source": [
    "c = (l[:, 1] - l[:, 0])/2\n",
    "c = c[:, None]"
   ]
  },
  {
   "cell_type": "code",
   "execution_count": 43,
   "metadata": {},
   "outputs": [
    {
     "data": {
      "text/plain": [
       "array([[0.04],\n",
       "       [0.04],\n",
       "       [0.04],\n",
       "       [0.04],\n",
       "       [0.04],\n",
       "       [0.04],\n",
       "       [0.04],\n",
       "       [0.04],\n",
       "       [0.04],\n",
       "       [0.04],\n",
       "       [0.04],\n",
       "       [0.04],\n",
       "       [0.04],\n",
       "       [0.04],\n",
       "       [0.04],\n",
       "       [0.04],\n",
       "       [0.04],\n",
       "       [0.04],\n",
       "       [0.04],\n",
       "       [0.04],\n",
       "       [0.04],\n",
       "       [0.04],\n",
       "       [0.04],\n",
       "       [0.04],\n",
       "       [0.04]])"
      ]
     },
     "execution_count": 43,
     "metadata": {},
     "output_type": "execute_result"
    }
   ],
   "source": [
    "c"
   ]
  },
  {
   "cell_type": "code",
   "execution_count": 44,
   "metadata": {},
   "outputs": [],
   "source": [
    "d = (l[:, 1] + l[:, 0])/2\n",
    "d = d[:, None]"
   ]
  },
  {
   "cell_type": "code",
   "execution_count": 45,
   "metadata": {},
   "outputs": [],
   "source": [
    "n_p  = c * gp +d"
   ]
  },
  {
   "cell_type": "code",
   "execution_count": 46,
   "metadata": {},
   "outputs": [],
   "source": [
    "gcl = c * gc"
   ]
  },
  {
   "cell_type": "code",
   "execution_count": 47,
   "metadata": {},
   "outputs": [
    {
     "data": {
      "text/plain": [
       "(25, 4)"
      ]
     },
     "execution_count": 47,
     "metadata": {},
     "output_type": "execute_result"
    }
   ],
   "source": [
    "gcl.shape"
   ]
  },
  {
   "cell_type": "code",
   "execution_count": 54,
   "metadata": {},
   "outputs": [
    {
     "data": {
      "text/plain": [
       "array([[0.01391419, 0.01391419, 0.02608581, 0.02608581],\n",
       "       [0.01391419, 0.01391419, 0.02608581, 0.02608581],\n",
       "       [0.01391419, 0.01391419, 0.02608581, 0.02608581],\n",
       "       [0.01391419, 0.01391419, 0.02608581, 0.02608581],\n",
       "       [0.01391419, 0.01391419, 0.02608581, 0.02608581],\n",
       "       [0.01391419, 0.01391419, 0.02608581, 0.02608581],\n",
       "       [0.01391419, 0.01391419, 0.02608581, 0.02608581],\n",
       "       [0.01391419, 0.01391419, 0.02608581, 0.02608581],\n",
       "       [0.01391419, 0.01391419, 0.02608581, 0.02608581],\n",
       "       [0.01391419, 0.01391419, 0.02608581, 0.02608581],\n",
       "       [0.01391419, 0.01391419, 0.02608581, 0.02608581],\n",
       "       [0.01391419, 0.01391419, 0.02608581, 0.02608581],\n",
       "       [0.01391419, 0.01391419, 0.02608581, 0.02608581],\n",
       "       [0.01391419, 0.01391419, 0.02608581, 0.02608581],\n",
       "       [0.01391419, 0.01391419, 0.02608581, 0.02608581],\n",
       "       [0.01391419, 0.01391419, 0.02608581, 0.02608581],\n",
       "       [0.01391419, 0.01391419, 0.02608581, 0.02608581],\n",
       "       [0.01391419, 0.01391419, 0.02608581, 0.02608581],\n",
       "       [0.01391419, 0.01391419, 0.02608581, 0.02608581],\n",
       "       [0.01391419, 0.01391419, 0.02608581, 0.02608581],\n",
       "       [0.01391419, 0.01391419, 0.02608581, 0.02608581],\n",
       "       [0.01391419, 0.01391419, 0.02608581, 0.02608581],\n",
       "       [0.01391419, 0.01391419, 0.02608581, 0.02608581],\n",
       "       [0.01391419, 0.01391419, 0.02608581, 0.02608581],\n",
       "       [0.01391419, 0.01391419, 0.02608581, 0.02608581]])"
      ]
     },
     "execution_count": 54,
     "metadata": {},
     "output_type": "execute_result"
    }
   ],
   "source": [
    "gcl"
   ]
  },
  {
   "cell_type": "code",
   "execution_count": 48,
   "metadata": {},
   "outputs": [
    {
     "data": {
      "text/plain": [
       "array([[1.19196111e-02, 1.37600490e-02, 2.33643887e-02, 2.47266179e-02],\n",
       "       [9.94812669e-03, 1.16351948e-02, 1.95813176e-02, 2.08300277e-02],\n",
       "       [8.15474395e-03, 9.68844220e-03, 1.61321448e-02, 1.72673358e-02],\n",
       "       [6.53946290e-03, 7.91979132e-03, 1.30168703e-02, 1.40385422e-02],\n",
       "       [5.10228353e-03, 6.32924212e-03, 1.02354941e-02, 1.11436469e-02],\n",
       "       [3.84320583e-03, 4.91679460e-03, 7.78801627e-03, 8.58264996e-03],\n",
       "       [2.76222982e-03, 3.68244877e-03, 5.67443674e-03, 6.35555134e-03],\n",
       "       [1.85935549e-03, 2.62620461e-03, 3.89475554e-03, 4.46235103e-03],\n",
       "       [1.13458284e-03, 1.74806213e-03, 2.44897265e-03, 2.90304905e-03],\n",
       "       [5.87911867e-04, 1.04802134e-03, 1.33708808e-03, 1.67764538e-03],\n",
       "       [2.19342578e-04, 5.26082226e-04, 5.59101832e-04, 7.86140030e-04],\n",
       "       [2.88749688e-05, 1.82244793e-04, 1.15013903e-04, 2.28533002e-04],\n",
       "       [1.65090406e-05, 1.65090406e-05, 4.82429272e-06, 4.82429272e-06],\n",
       "       [1.82244793e-04, 2.88749688e-05, 2.28533002e-04, 1.15013903e-04],\n",
       "       [5.26082226e-04, 2.19342578e-04, 7.86140030e-04, 5.59101832e-04],\n",
       "       [1.04802134e-03, 5.87911867e-04, 1.67764538e-03, 1.33708808e-03],\n",
       "       [1.74806213e-03, 1.13458284e-03, 2.90304905e-03, 2.44897265e-03],\n",
       "       [2.62620461e-03, 1.85935549e-03, 4.46235103e-03, 3.89475554e-03],\n",
       "       [3.68244877e-03, 2.76222982e-03, 6.35555134e-03, 5.67443674e-03],\n",
       "       [4.91679460e-03, 3.84320583e-03, 8.58264996e-03, 7.78801627e-03],\n",
       "       [6.32924212e-03, 5.10228353e-03, 1.11436469e-02, 1.02354941e-02],\n",
       "       [7.91979132e-03, 6.53946290e-03, 1.40385422e-02, 1.30168703e-02],\n",
       "       [9.68844220e-03, 8.15474395e-03, 1.72673358e-02, 1.61321448e-02],\n",
       "       [1.16351948e-02, 9.94812669e-03, 2.08300277e-02, 1.95813176e-02],\n",
       "       [1.37600490e-02, 1.19196111e-02, 2.47266179e-02, 2.33643887e-02]])"
      ]
     },
     "execution_count": 48,
     "metadata": {},
     "output_type": "execute_result"
    }
   ],
   "source": [
    "n_p ** 2 * gcl"
   ]
  },
  {
   "cell_type": "code",
   "execution_count": 49,
   "metadata": {},
   "outputs": [
    {
     "data": {
      "text/plain": [
       "0.6666666666666244"
      ]
     },
     "execution_count": 49,
     "metadata": {},
     "output_type": "execute_result"
    }
   ],
   "source": [
    "np.sum(n_p ** 2 * gcl)"
   ]
  },
  {
   "cell_type": "code",
   "execution_count": null,
   "metadata": {},
   "outputs": [],
   "source": [
    "2/3"
   ]
  },
  {
   "cell_type": "code",
   "execution_count": null,
   "metadata": {},
   "outputs": [],
   "source": [
    "M = np.triu(np.ones([10, 10]),k=1).T"
   ]
  },
  {
   "cell_type": "markdown",
   "metadata": {},
   "source": []
  },
  {
   "cell_type": "code",
   "execution_count": null,
   "metadata": {},
   "outputs": [],
   "source": [
    "M"
   ]
  },
  {
   "cell_type": "code",
   "execution_count": null,
   "metadata": {},
   "outputs": [],
   "source": []
  }
 ],
 "metadata": {
  "kernelspec": {
   "display_name": "Python 3",
   "language": "python",
   "name": "python3"
  },
  "language_info": {
   "codemirror_mode": {
    "name": "ipython",
    "version": 3
   },
   "file_extension": ".py",
   "mimetype": "text/x-python",
   "name": "python",
   "nbconvert_exporter": "python",
   "pygments_lexer": "ipython3",
   "version": "3.6.12"
  }
 },
 "nbformat": 4,
 "nbformat_minor": 5
}
